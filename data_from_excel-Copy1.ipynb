{
 "cells": [
  {
   "cell_type": "code",
   "execution_count": 1,
   "metadata": {},
   "outputs": [
    {
     "data": {
      "text/plain": [
       "'\\nApparent magnitude of Sn2017gas, data obtained from SLOTIS\\nFarah Fauzi\\n'"
      ]
     },
     "execution_count": 1,
     "metadata": {},
     "output_type": "execute_result"
    }
   ],
   "source": [
    "'''\n",
    "The apparent magnitude of SN2017gas (y-axis) vs date (x-axis) plotted with all filters on the same plot\n",
    "Data obtained from super-LOTIS (SLOTIS)website\n",
    "Farah Fauzi\n",
    "'''"
   ]
  },
  {
   "cell_type": "code",
   "execution_count": 2,
   "metadata": {},
   "outputs": [],
   "source": [
    "#import modules\n",
    "import numpy as np\n",
    "import pandas as pd\n",
    "import datetime as dt\n",
    "import matplotlib.dates as dates\n",
    "import pylab as pl\n",
    "import matplotlib.pyplot as plt\n",
    "import matplotlib.dates as mdates"
   ]
  },
  {
   "cell_type": "code",
   "execution_count": 3,
   "metadata": {},
   "outputs": [],
   "source": [
    "#read table in a cvs file\n",
    "data_file = pd.read_csv('sn2017gasnewestlist.csv',dtype = np.dtype(str,float))\n",
    "\n",
    "#assign 'date' as date from table\n",
    "date = data_file['Date']"
   ]
  },
  {
   "cell_type": "code",
   "execution_count": 4,
   "metadata": {},
   "outputs": [
    {
     "name": "stdout",
     "output_type": "stream",
     "text": [
      "      Date  mag_B  mag_I  mag_R  mag_V\n",
      "0  8/29/17    Nan  13.09  13.21  14.01\n",
      "1  8/30/17  14.96  13.15   13.2  13.78\n",
      "2  8/31/17  15.08  13.04    Nan  13.93\n"
     ]
    }
   ],
   "source": [
    "#test print\n",
    "print(data_file[0:3])"
   ]
  },
  {
   "cell_type": "code",
   "execution_count": 5,
   "metadata": {},
   "outputs": [
    {
     "name": "stdout",
     "output_type": "stream",
     "text": [
      "   mag_B  mag_I  mag_R  mag_V\n",
      "0    Nan  13.09  13.21  14.01\n",
      "1  14.96  13.15   13.2  13.78\n",
      "2  15.08  13.04    Nan  13.93\n",
      "3  15.11  12.85  13.06  13.88\n",
      "4  15.11  12.82  13.02   13.9\n"
     ]
    }
   ],
   "source": [
    "#read apparent mag for B to V filters as mags\n",
    "mags = data_file.loc[:,'mag_B':'mag_V']\n",
    "print(mags[0:5])"
   ]
  },
  {
   "cell_type": "code",
   "execution_count": 7,
   "metadata": {},
   "outputs": [
    {
     "data": {
      "image/png": "[encoded data removed]",
      "text/plain": [
       "<Figure size 432x288 with 1 Axes>"
      ]
     },
     "metadata": {},
     "output_type": "display_data"
    }
   ],
   "source": [
    "#assign date as the x values array\n",
    "# used instead modified Julian Date start from the day of discovery\n",
    "# look up how to correct the axis\n",
    "#email Jen about python and how to convert the data to JDate\n",
    "x = [dt.datetime.strptime(d,'%m/%d/%y').date() for d in date]\n",
    "\n",
    "mag_B = data_file['mag_B']\n",
    "mag_R = data_file['mag_R']\n",
    "mag_V = data_file['mag_V']\n",
    "mag_I = data_file['mag_I']\n",
    "\n",
    "#date format\n",
    "plt.gca().xaxis.set_major_formatter(mdates.DateFormatter('%m/%d/%y'))\n",
    "plt.gca().xaxis.set_major_locator(mdates.DayLocator(interval=30))\n",
    "\n",
    "#plot mag vs x and set appearance of each mag plotting\n",
    "plt.plot(x,mag_B,'ob',markersize=5,label='B')\n",
    "plt.plot(x,mag_R,'*r',markersize=5,label='R')\n",
    "plt.plot(x,mag_V,'dm',markersize=5,label='V')\n",
    "plt.plot(x,mag_I,'^c',markersize=5,label='I')\n",
    "\n",
    "#decide what date, mag to appear on the axis label\n",
    "plt.xticks(['8/29/17','10/28/17','12/27/17','2/25/18','4/26/18','6/25/18','8/24/18','10/23/18','12/22/18','2/20/19','4/21/19','6/20/19'])\n",
    "plt.yticks(np.arange(0,96,10))\n",
    "plt.gca().invert_yaxis()\n",
    "pl.xlabel('Date',fontsize='18')\n",
    "pl.ylabel('Apparent Magnitude',fontsize='18')\n",
    "pl.legend(ncol=2)\n",
    "plt.gcf().autofmt_xdate()\n",
    "\n",
    "plt.show()"
   ]
  },
  {
   "cell_type": "code",
   "execution_count": null,
   "metadata": {},
   "outputs": [],
   "source": [
    "'''\n",
    "Reference:\n",
    "    super-LOTIS page for SN2017gas: http://slotis.kpno.noao.edu/LOTIS/TARGETS/17gas.html\n",
    "    page of the open SN catalog: https://sne.space/sne/SN2017gas/\n",
    "    \n",
    "\n",
    "'''\n",
    "\n",
    "#Things to figure out:\n",
    "#  errorbar\n",
    "#  1-sigma magnitude error\n",
    "#  correcting distance\n",
    "#  absolute magnitude\n",
    "#  find brightness\n",
    "#  correction for line of sight redding and extinction"
   ]
  }
 ],
 "metadata": {
  "kernelspec": {
   "display_name": "Python 3",
   "language": "python",
   "name": "python3"
  },
  "language_info": {
   "codemirror_mode": {
    "name": "ipython",
    "version": 3
   },
   "file_extension": ".py",
   "mimetype": "text/x-python",
   "name": "python",
   "nbconvert_exporter": "python",
   "pygments_lexer": "ipython3",
   "version": "3.6.5"
  }
 },
 "nbformat": 4,
 "nbformat_minor": 2
}
